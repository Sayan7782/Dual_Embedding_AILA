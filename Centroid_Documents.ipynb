{
 "cells": [
  {
   "cell_type": "code",
   "execution_count": 16,
   "metadata": {},
   "outputs": [],
   "source": [
    "import gensim,nltk"
   ]
  },
  {
   "cell_type": "code",
   "execution_count": 2,
   "metadata": {},
   "outputs": [
    {
     "name": "stderr",
     "output_type": "stream",
     "text": [
      "C:\\Users\\Sayan Gosh\\Miniconda3\\lib\\site-packages\\smart_open\\smart_open_lib.py:398: UserWarning: This function is deprecated, use smart_open.open instead. See the migration notes for details: https://github.com/RaRe-Technologies/smart_open/blob/master/README.rst#migrating-to-the-new-open-function\n",
      "  'See the migration notes for details: %s' % _MIGRATION_NOTES_URL\n"
     ]
    }
   ],
   "source": [
    "modelq = gensim.models.Word2Vec.load(\"mymodel1\")"
   ]
  },
  {
   "cell_type": "code",
   "execution_count": 4,
   "metadata": {},
   "outputs": [],
   "source": [
    "modeld=gensim.models.Word2Vec.load(\"mymodel\")"
   ]
  },
  {
   "cell_type": "code",
   "execution_count": 14,
   "metadata": {},
   "outputs": [],
   "source": [
    "import glob,pickle,os"
   ]
  },
  {
   "cell_type": "code",
   "execution_count": 7,
   "metadata": {},
   "outputs": [],
   "source": [
    "import numpy as np"
   ]
  },
  {
   "cell_type": "code",
   "execution_count": 12,
   "metadata": {},
   "outputs": [],
   "source": [
    "with open(\"DOC.txt\", \"rb\") as myFile:\n",
    "    myNewPulledInDictionary = pickle.load(myFile)"
   ]
  },
  {
   "cell_type": "code",
   "execution_count": 8,
   "metadata": {},
   "outputs": [],
   "source": [
    "def get_embedding(x):\n",
    "    return (modeld[x])"
   ]
  },
  {
   "cell_type": "code",
   "execution_count": 9,
   "metadata": {},
   "outputs": [],
   "source": [
    "def get_embedding1(x):\n",
    "    k=myNewPulledInDictionary[x]\n",
    "    return (modeld.syn1neg[k,:])"
   ]
  },
  {
   "cell_type": "code",
   "execution_count": 22,
   "metadata": {},
   "outputs": [
    {
     "name": "stderr",
     "output_type": "stream",
     "text": [
      "C:\\Users\\Sayan Gosh\\Miniconda3\\lib\\site-packages\\ipykernel_launcher.py:2: DeprecationWarning: Call to deprecated `__getitem__` (Method will be removed in 4.0.0, use self.wv.__getitem__() instead).\n",
      "  \n",
      "C:\\Users\\Sayan Gosh\\Miniconda3\\lib\\site-packages\\ipykernel_launcher.py:3: DeprecationWarning: Call to deprecated `syn1neg` (Attribute will be removed in 4.0.0, use self.trainables.syn1neg instead).\n",
      "  This is separate from the ipykernel package so we can avoid doing imports until\n",
      "C:\\Users\\Sayan Gosh\\Miniconda3\\lib\\site-packages\\numpy\\core\\fromnumeric.py:2920: RuntimeWarning: Mean of empty slice.\n",
      "  out=out, **kwargs)\n",
      "C:\\Users\\Sayan Gosh\\Miniconda3\\lib\\site-packages\\numpy\\core\\_methods.py:85: RuntimeWarning: invalid value encountered in double_scalars\n",
      "  ret = ret.dtype.type(ret / rcount)\n"
     ]
    }
   ],
   "source": [
    "for fname in glob.iglob('AILA2019\\AILA-data\\Object_casedocs\\*.txt', recursive=False):\n",
    "     for line in open(fname):\n",
    "            centroid_in = (np.mean(np.array([get_embedding(x) for x in nltk.word_tokenize(line)]), axis=0))\n",
    "            centroid_out = (np.mean(np.array([get_embedding1(x) for x in nltk.word_tokenize(line)]), axis=0))\n",
    "            out_dict = { fname : (centroid_in, centroid_out) }\n",
    "            pickle_file = 'centroids/' + os.path.basename(fname).replace('.txt', '.p')\n",
    "            pickle.dump(out_dict, open(pickle_file, \"wb\"))"
   ]
  },
  {
   "cell_type": "code",
   "execution_count": 13,
   "metadata": {},
   "outputs": [
    {
     "name": "stderr",
     "output_type": "stream",
     "text": [
      "C:\\Users\\Sayan Gosh\\Miniconda3\\lib\\site-packages\\ipykernel_launcher.py:3: DeprecationWarning: Call to deprecated `syn1neg` (Attribute will be removed in 4.0.0, use self.trainables.syn1neg instead).\n",
      "  This is separate from the ipykernel package so we can avoid doing imports until\n"
     ]
    },
    {
     "data": {
      "text/plain": [
       "array([-1.11558594e-01,  2.32445449e-03,  2.08007678e-01, -2.43083984e-01,\n",
       "        6.29102662e-02,  9.44208726e-02,  1.11304156e-01,  3.01326156e-01,\n",
       "        1.05739087e-01,  2.24420339e-01,  6.72595128e-02,  5.50347678e-02,\n",
       "       -3.93416174e-02,  1.48102865e-01, -9.82109755e-02, -5.72587140e-02,\n",
       "        7.12713599e-02,  1.29334386e-02, -2.37919241e-01,  1.12457082e-01,\n",
       "       -5.95958903e-02, -1.65082693e-01,  2.61600018e-02, -1.68530732e-01,\n",
       "        2.94067040e-02, -1.15012057e-01,  1.58553682e-02, -2.04419047e-02,\n",
       "       -1.85528174e-01, -5.82203940e-02,  2.85152018e-01, -1.30022373e-02,\n",
       "        1.89377647e-02,  2.61412188e-02,  1.36652328e-02,  1.31437868e-01,\n",
       "        1.57322064e-01,  2.44199112e-01,  8.16818699e-03, -7.96184465e-02,\n",
       "       -2.77360737e-01, -8.86864960e-02, -3.45749371e-02, -3.40184644e-02,\n",
       "        2.97043752e-02, -7.79364854e-02, -4.98439297e-02,  1.33499935e-01,\n",
       "       -2.93726451e-03,  3.65935713e-01, -1.61307156e-01, -4.09432873e-02,\n",
       "        1.07943267e-02, -3.56104106e-01,  8.81823525e-02, -1.84533626e-01,\n",
       "       -1.20985955e-01,  4.30061817e-02, -4.31913063e-02, -2.61286288e-01,\n",
       "        1.44245610e-01, -3.98134142e-02,  2.71818824e-02,  1.76362410e-01,\n",
       "       -5.81642315e-02, -9.73064303e-02,  1.15965813e-01,  1.41155673e-03,\n",
       "        1.88269526e-01, -9.23659429e-02,  1.91416964e-02, -1.61106557e-01,\n",
       "       -1.79869647e-03,  3.17392958e-04, -2.31869742e-02,  2.64448933e-02,\n",
       "        9.04972926e-02, -5.80960000e-03,  3.42416137e-01,  2.86109954e-01,\n",
       "        1.90981150e-01, -1.30554169e-01, -1.09357368e-02, -2.69568115e-01,\n",
       "        7.48496428e-02,  1.32252211e-02, -1.99946780e-02, -2.24223703e-01,\n",
       "        1.05817942e-02, -8.11813399e-02,  3.81921381e-02, -9.75595638e-02,\n",
       "        1.05067231e-01, -2.39033774e-01,  9.76034030e-02,  1.18118621e-01,\n",
       "        6.41118083e-03,  2.35722139e-01, -9.22295265e-03, -4.39264886e-02],\n",
       "      dtype=float32)"
      ]
     },
     "execution_count": 13,
     "metadata": {},
     "output_type": "execute_result"
    }
   ],
   "source": [
    "get_embedding1('Masud')"
   ]
  },
  {
   "cell_type": "code",
   "execution_count": null,
   "metadata": {},
   "outputs": [],
   "source": []
  }
 ],
 "metadata": {
  "kernelspec": {
   "display_name": "Python 3",
   "language": "python",
   "name": "python3"
  },
  "language_info": {
   "codemirror_mode": {
    "name": "ipython",
    "version": 3
   },
   "file_extension": ".py",
   "mimetype": "text/x-python",
   "name": "python",
   "nbconvert_exporter": "python",
   "pygments_lexer": "ipython3",
   "version": "3.7.3"
  }
 },
 "nbformat": 4,
 "nbformat_minor": 2
}
